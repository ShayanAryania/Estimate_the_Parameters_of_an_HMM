{
 "cells": [
  {
   "cell_type": "code",
   "execution_count": 2,
   "metadata": {},
   "outputs": [],
   "source": [
    "def generate_mapping(file):\n",
    "    return dict((state, i) for i, state in enumerate(file.readline().split()))"
   ]
  },
  {
   "cell_type": "code",
   "execution_count": 1,
   "metadata": {},
   "outputs": [],
   "source": [
    "def estimate_transition_probabilities(PI, S):\n",
    "    transitionCount = [[0] * len(S) for _ in range(len(S))]\n",
    "    for src, dst in zip(PI[:-1], PI[1:]):\n",
    "        transitionCount[S[src]][S[dst]] += 1\n",
    "    normalizedTransitionCount = []\n",
    "    for row in transitionCount:\n",
    "        rowSum = sum(row)\n",
    "        if rowSum == 0:\n",
    "            normalized = [1 / len(row)] * len(row)\n",
    "        else:\n",
    "            normalized = [v / rowSum for v in row]\n",
    "        normalizedTransitionCount.append(normalized)\n",
    "    return normalizedTransitionCount"
   ]
  },
  {
   "cell_type": "code",
   "execution_count": 3,
   "metadata": {},
   "outputs": [],
   "source": [
    "def estimate_emission_probabilities(X, PI, Z, S):\n",
    "    emissionCount = [[0] * len(Z) for _ in range(len(S))]\n",
    "    for observation, state in zip(X, PI):\n",
    "        emissionCount[S[state]][Z[observation]] += 1\n",
    "    normalizedEmissionCount = []\n",
    "    for row in emissionCount:\n",
    "        rowSum = sum(row)\n",
    "        if rowSum == 0:\n",
    "            normalized = [1 / len(row)] * len(row)\n",
    "        else:\n",
    "            normalized = [v / rowSum for v in row]\n",
    "        normalizedEmissionCount.append(normalized)\n",
    "    return normalizedEmissionCount"
   ]
  },
  {
   "cell_type": "code",
   "execution_count": 4,
   "metadata": {},
   "outputs": [],
   "source": [
    "def print_matrix(mat, rowNames, colNames, file):\n",
    "    print('\\t' + '\\t'.join(colNames), file=file)\n",
    "    for rowName, row in zip(rowNames, mat):\n",
    "        r = list(map(lambda x: str(x) if len(str(x)) < 6 else '%.3f' % x, row))\n",
    "        print('\\t'.join([rowName] + r), file=file)"
   ]
  },
  {
   "cell_type": "code",
   "execution_count": 7,
   "metadata": {},
   "outputs": [],
   "source": [
    "with open('../../datasets/rosalind_BA10H.txt') as file:\n",
    "    X = file.readline().strip()\n",
    "    file.readline()\n",
    "    Z = generate_mapping(file)\n",
    "    file.readline()\n",
    "    PI = file.readline().strip()\n",
    "    file.readline()\n",
    "    S = generate_mapping(file)\n",
    "    alphabets = list(sorted(Z.keys(), key=lambda x: Z[x]))\n",
    "    states = list(sorted(S.keys(), key=lambda x: S[x]))\n",
    "    A = estimate_transition_probabilities(PI, S)\n",
    "    E = estimate_emission_probabilities(X, PI, Z, S)"
   ]
  },
  {
   "cell_type": "code",
   "execution_count": 8,
   "metadata": {},
   "outputs": [
    {
     "name": "stdout",
     "output_type": "stream",
     "text": [
      "7.212644161326873e-49\n"
     ]
    }
   ],
   "source": [
    "        print_matrix(A, rowNames=states, colNames=states)\n",
    "        print('--------')\n",
    "        print_matrix(E, rowNames=states, colNames=alphabets)"
   ]
  }
 ],
 "metadata": {
  "kernelspec": {
   "display_name": "Python 3",
   "language": "python",
   "name": "python3"
  },
  "language_info": {
   "codemirror_mode": {
    "name": "ipython",
    "version": 3
   },
   "file_extension": ".py",
   "mimetype": "text/x-python",
   "name": "python",
   "nbconvert_exporter": "python",
   "pygments_lexer": "ipython3",
   "version": "3.11.4"
  }
 },
 "nbformat": 4,
 "nbformat_minor": 2
}
